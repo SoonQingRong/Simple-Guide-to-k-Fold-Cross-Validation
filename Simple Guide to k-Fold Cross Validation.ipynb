{
 "cells": [
  {
   "cell_type": "markdown",
   "metadata": {},
   "source": [
    "# Import libraries "
   ]
  },
  {
   "cell_type": "code",
   "execution_count": 1,
   "metadata": {},
   "outputs": [],
   "source": [
    "import numpy as np\n",
    "from sklearn.datasets import load_breast_cancer\n",
    "from sklearn.model_selection import KFold\n",
    "from sklearn.linear_model import LogisticRegression\n",
    "import time\n",
    "from sklearn.metrics import accuracy_score\n",
    "from sklearn.metrics import f1_score\n",
    "import matplotlib.pyplot as plt"
   ]
  },
  {
   "cell_type": "markdown",
   "metadata": {},
   "source": [
    "# Load dataset"
   ]
  },
  {
   "cell_type": "code",
   "execution_count": 2,
   "metadata": {},
   "outputs": [],
   "source": [
    "X, y = load_breast_cancer(return_X_y = True)"
   ]
  },
  {
   "cell_type": "markdown",
   "metadata": {},
   "source": [
    "# See labels for dataset"
   ]
  },
  {
   "cell_type": "code",
   "execution_count": 3,
   "metadata": {},
   "outputs": [
    {
     "data": {
      "text/plain": [
       "[0, 1]"
      ]
     },
     "execution_count": 3,
     "metadata": {},
     "output_type": "execute_result"
    }
   ],
   "source": [
    "list(np.unique(y))"
   ]
  },
  {
   "cell_type": "markdown",
   "metadata": {},
   "source": [
    "# Checking how many samples are 0 (malignant) and 1 (benign)"
   ]
  },
  {
   "cell_type": "code",
   "execution_count": 4,
   "metadata": {},
   "outputs": [
    {
     "name": "stdout",
     "output_type": "stream",
     "text": [
      "Total samples: 569\n",
      "Samples classified as malignant (0): 212\n",
      "Samples classified as benign (1): 357\n"
     ]
    }
   ],
   "source": [
    "print(\"Total samples:\", len(y))\n",
    "print(\"Samples classified as malignant (0):\", len(y) - sum(y))\n",
    "print(\"Samples classified as benign (1):\", sum(y))"
   ]
  },
  {
   "cell_type": "markdown",
   "metadata": {},
   "source": [
    "# Instantiate model for classification (Logistic Regression)"
   ]
  },
  {
   "cell_type": "code",
   "execution_count": 5,
   "metadata": {},
   "outputs": [],
   "source": [
    "clf = LogisticRegression(max_iter = 10000)"
   ]
  },
  {
   "cell_type": "markdown",
   "metadata": {},
   "source": [
    "# 5-fold cross-validation will be used"
   ]
  },
  {
   "cell_type": "code",
   "execution_count": 6,
   "metadata": {},
   "outputs": [],
   "source": [
    "number_of_splits = 5\n",
    "kf = KFold(n_splits = number_of_splits, shuffle = True, random_state = 2021)"
   ]
  },
  {
   "cell_type": "markdown",
   "metadata": {},
   "source": [
    "# 5-fold Cross Validation to get average accuracy and F1 score for the model"
   ]
  },
  {
   "cell_type": "code",
   "execution_count": 7,
   "metadata": {},
   "outputs": [
    {
     "name": "stdout",
     "output_type": "stream",
     "text": [
      "Fold 1 / 5 completed\n",
      "Time elapsed for training of current fold: 0.5513336658477783 seconds\n",
      "\n",
      "Fold 2 / 5 completed\n",
      "Time elapsed for training of current fold: 0.6137781143188477 seconds\n",
      "\n",
      "Fold 3 / 5 completed\n",
      "Time elapsed for training of current fold: 0.6976301670074463 seconds\n",
      "\n",
      "Fold 4 / 5 completed\n",
      "Time elapsed for training of current fold: 0.7067952156066895 seconds\n",
      "\n",
      "Fold 5 / 5 completed\n",
      "Time elapsed for training of current fold: 0.5600590705871582 seconds\n",
      "\n"
     ]
    }
   ],
   "source": [
    "fold_value = 1\n",
    "accuracy_list = []\n",
    "f1_score_list = []\n",
    "for train_index, test_index in kf.split(X):\n",
    "    \n",
    "    start = time.time()\n",
    "    X_train, X_test = X[train_index], X[test_index]\n",
    "    y_train, y_test = y[train_index], y[test_index]\n",
    "    \n",
    "    clf.fit(X_train, y_train)\n",
    "    accuracy_list.append(accuracy_score(clf.predict(X_test), y_test))\n",
    "    f1_score_list.append(f1_score(clf.predict(X_test), y_test, pos_label = 1)) #positive label is set to 1 for simplicity\n",
    "    \n",
    "    end = time.time()\n",
    "    print(\"Fold\", fold_value, \"/\", number_of_splits, \"completed\")\n",
    "    print(\"Time elapsed for training of current fold:\", end-start, \"seconds\\n\")\n",
    "    fold_value = fold_value + 1"
   ]
  },
  {
   "cell_type": "markdown",
   "metadata": {},
   "source": [
    "# Accuracy Performance"
   ]
  },
  {
   "cell_type": "code",
   "execution_count": 8,
   "metadata": {},
   "outputs": [
    {
     "name": "stdout",
     "output_type": "stream",
     "text": [
      "[0.9385964912280702, 0.9649122807017544, 0.956140350877193, 0.9649122807017544, 0.9380530973451328]\n"
     ]
    }
   ],
   "source": [
    "print(accuracy_list)"
   ]
  },
  {
   "cell_type": "code",
   "execution_count": 9,
   "metadata": {},
   "outputs": [
    {
     "data": {
      "image/png": "[encoded data removed]",
      "text/plain": [
       "<Figure size 432x288 with 1 Axes>"
      ]
     },
     "metadata": {
      "needs_background": "light"
     },
     "output_type": "display_data"
    }
   ],
   "source": [
    "plt.figure()\n",
    "plt.plot(range(1, number_of_splits + 1), accuracy_list);\n",
    "plt.title(\"Accuracy across \" + str(number_of_splits) + \" folds\")\n",
    "plt.xlabel(\"Fold Number\")\n",
    "plt.ylabel(\"Accuracy\")\n",
    "plt.ylim(0.9, 1)\n",
    "plt.show();"
   ]
  },
  {
   "cell_type": "code",
   "execution_count": 10,
   "metadata": {},
   "outputs": [
    {
     "name": "stdout",
     "output_type": "stream",
     "text": [
      "Average accuracy: 0.9525229001707809\n"
     ]
    }
   ],
   "source": [
    "print(\"Average accuracy:\", np.mean(accuracy_list))"
   ]
  },
  {
   "cell_type": "markdown",
   "metadata": {},
   "source": [
    "# F1 Score Performance"
   ]
  },
  {
   "cell_type": "code",
   "execution_count": 11,
   "metadata": {},
   "outputs": [
    {
     "name": "stdout",
     "output_type": "stream",
     "text": [
      "[0.9523809523809524, 0.9714285714285714, 0.9640287769784173, 0.9733333333333334, 0.9517241379310345]\n"
     ]
    }
   ],
   "source": [
    "print(f1_score_list)"
   ]
  },
  {
   "cell_type": "code",
   "execution_count": 12,
   "metadata": {},
   "outputs": [
    {
     "name": "stdout",
     "output_type": "stream",
     "text": [
      "[0.9523809523809524, 0.9714285714285714, 0.9640287769784173, 0.9733333333333334, 0.9517241379310345]\n"
     ]
    },
    {
     "data": {
      "image/png": "[encoded data removed]",
      "text/plain": [
       "<Figure size 432x288 with 1 Axes>"
      ]
     },
     "metadata": {
      "needs_background": "light"
     },
     "output_type": "display_data"
    }
   ],
   "source": [
    "print(f1_score_list)\n",
    "plt.figure()\n",
    "plt.plot(range(1, number_of_splits + 1), f1_score_list)\n",
    "plt.title(\"F1 score across \" + str(number_of_splits) + \" folds\")\n",
    "plt.xlabel(\"Fold Number\")\n",
    "plt.ylabel(\"F1 score\")\n",
    "plt.ylim(0.9, 1)\n",
    "plt.show();"
   ]
  },
  {
   "cell_type": "code",
   "execution_count": 13,
   "metadata": {},
   "outputs": [
    {
     "name": "stdout",
     "output_type": "stream",
     "text": [
      "Average F1-score for class 1 as positive: 0.9625791544104617\n"
     ]
    }
   ],
   "source": [
    "print(\"Average F1-score for class 1 as positive:\", np.mean(f1_score_list))"
   ]
  }
 ],
 "metadata": {
  "kernelspec": {
   "display_name": "Python 3",
   "language": "python",
   "name": "python3"
  },
  "language_info": {
   "codemirror_mode": {
    "name": "ipython",
    "version": 3
   },
   "file_extension": ".py",
   "mimetype": "text/x-python",
   "name": "python",
   "nbconvert_exporter": "python",
   "pygments_lexer": "ipython3",
   "version": "3.8.5"
  },
  "varInspector": {
   "cols": {
    "lenName": 16,
    "lenType": 16,
    "lenVar": 40
   },
   "kernels_config": {
    "python": {
     "delete_cmd_postfix": "",
     "delete_cmd_prefix": "del ",
     "library": "var_list.py",
     "varRefreshCmd": "print(var_dic_list())"
    },
    "r": {
     "delete_cmd_postfix": ") ",
     "delete_cmd_prefix": "rm(",
     "library": "var_list.r",
     "varRefreshCmd": "cat(var_dic_list()) "
    }
   },
   "types_to_exclude": [
    "module",
    "function",
    "builtin_function_or_method",
    "instance",
    "_Feature"
   ],
   "window_display": false
  }
 },
 "nbformat": 4,
 "nbformat_minor": 4
}
